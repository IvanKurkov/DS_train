{
 "cells": [
  {
   "cell_type": "code",
   "execution_count": 1,
   "id": "2e3895c9",
   "metadata": {},
   "outputs": [],
   "source": [
    "import numpy as np # linear algebra\n",
    "import pandas as pd # data processing, CSV file I/O (e.g. pd.read_csv)\n",
    "import matplotlib.pyplot as plt\n",
    "import seaborn as sns\n",
    "import warnings\n",
    "warnings.filterwarnings('ignore')\n",
    "\n",
    "# Input data files are available in the read-only \"../input/\" directory\n",
    "# For example, running this (by clicking run or pressing Shift+Enter) will list all files under the input directory\n",
    "\n",
    "#import os\n",
    "#for dirname, _, filenames in os.walk('/kaggle/input'):\n",
    "#    for filename in filenames:\n",
    "#        print(os.path.join(dirname, filename))\n",
    "        \n",
    "from sklearn.model_selection import train_test_split\n",
    "\n",
    "# You can write up to 20GB to the current directory (/kaggle/working/) that gets preserved as output when you create a version using \"Save & Run All\" \n",
    "# You can also write temporary files to /kaggle/temp/, but they won't be saved outside of the current session"
   ]
  },
  {
   "cell_type": "code",
   "execution_count": 2,
   "id": "e64f244d",
   "metadata": {},
   "outputs": [
    {
     "name": "stdout",
     "output_type": "stream",
     "text": [
      "<class 'pandas.core.frame.DataFrame'>\n",
      "RangeIndex: 1460 entries, 0 to 1459\n",
      "Data columns (total 81 columns):\n",
      " #   Column         Non-Null Count  Dtype  \n",
      "---  ------         --------------  -----  \n",
      " 0   Id             1460 non-null   int64  \n",
      " 1   MSSubClass     1460 non-null   int64  \n",
      " 2   MSZoning       1460 non-null   object \n",
      " 3   LotFrontage    1201 non-null   float64\n",
      " 4   LotArea        1460 non-null   int64  \n",
      " 5   Street         1460 non-null   object \n",
      " 6   Alley          91 non-null     object \n",
      " 7   LotShape       1460 non-null   object \n",
      " 8   LandContour    1460 non-null   object \n",
      " 9   Utilities      1460 non-null   object \n",
      " 10  LotConfig      1460 non-null   object \n",
      " 11  LandSlope      1460 non-null   object \n",
      " 12  Neighborhood   1460 non-null   object \n",
      " 13  Condition1     1460 non-null   object \n",
      " 14  Condition2     1460 non-null   object \n",
      " 15  BldgType       1460 non-null   object \n",
      " 16  HouseStyle     1460 non-null   object \n",
      " 17  OverallQual    1460 non-null   int64  \n",
      " 18  OverallCond    1460 non-null   int64  \n",
      " 19  YearBuilt      1460 non-null   int64  \n",
      " 20  YearRemodAdd   1460 non-null   int64  \n",
      " 21  RoofStyle      1460 non-null   object \n",
      " 22  RoofMatl       1460 non-null   object \n",
      " 23  Exterior1st    1460 non-null   object \n",
      " 24  Exterior2nd    1460 non-null   object \n",
      " 25  MasVnrType     1452 non-null   object \n",
      " 26  MasVnrArea     1452 non-null   float64\n",
      " 27  ExterQual      1460 non-null   object \n",
      " 28  ExterCond      1460 non-null   object \n",
      " 29  Foundation     1460 non-null   object \n",
      " 30  BsmtQual       1423 non-null   object \n",
      " 31  BsmtCond       1423 non-null   object \n",
      " 32  BsmtExposure   1422 non-null   object \n",
      " 33  BsmtFinType1   1423 non-null   object \n",
      " 34  BsmtFinSF1     1460 non-null   int64  \n",
      " 35  BsmtFinType2   1422 non-null   object \n",
      " 36  BsmtFinSF2     1460 non-null   int64  \n",
      " 37  BsmtUnfSF      1460 non-null   int64  \n",
      " 38  TotalBsmtSF    1460 non-null   int64  \n",
      " 39  Heating        1460 non-null   object \n",
      " 40  HeatingQC      1460 non-null   object \n",
      " 41  CentralAir     1460 non-null   object \n",
      " 42  Electrical     1459 non-null   object \n",
      " 43  1stFlrSF       1460 non-null   int64  \n",
      " 44  2ndFlrSF       1460 non-null   int64  \n",
      " 45  LowQualFinSF   1460 non-null   int64  \n",
      " 46  GrLivArea      1460 non-null   int64  \n",
      " 47  BsmtFullBath   1460 non-null   int64  \n",
      " 48  BsmtHalfBath   1460 non-null   int64  \n",
      " 49  FullBath       1460 non-null   int64  \n",
      " 50  HalfBath       1460 non-null   int64  \n",
      " 51  BedroomAbvGr   1460 non-null   int64  \n",
      " 52  KitchenAbvGr   1460 non-null   int64  \n",
      " 53  KitchenQual    1460 non-null   object \n",
      " 54  TotRmsAbvGrd   1460 non-null   int64  \n",
      " 55  Functional     1460 non-null   object \n",
      " 56  Fireplaces     1460 non-null   int64  \n",
      " 57  FireplaceQu    770 non-null    object \n",
      " 58  GarageType     1379 non-null   object \n",
      " 59  GarageYrBlt    1379 non-null   float64\n",
      " 60  GarageFinish   1379 non-null   object \n",
      " 61  GarageCars     1460 non-null   int64  \n",
      " 62  GarageArea     1460 non-null   int64  \n",
      " 63  GarageQual     1379 non-null   object \n",
      " 64  GarageCond     1379 non-null   object \n",
      " 65  PavedDrive     1460 non-null   object \n",
      " 66  WoodDeckSF     1460 non-null   int64  \n",
      " 67  OpenPorchSF    1460 non-null   int64  \n",
      " 68  EnclosedPorch  1460 non-null   int64  \n",
      " 69  3SsnPorch      1460 non-null   int64  \n",
      " 70  ScreenPorch    1460 non-null   int64  \n",
      " 71  PoolArea       1460 non-null   int64  \n",
      " 72  PoolQC         7 non-null      object \n",
      " 73  Fence          281 non-null    object \n",
      " 74  MiscFeature    54 non-null     object \n",
      " 75  MiscVal        1460 non-null   int64  \n",
      " 76  MoSold         1460 non-null   int64  \n",
      " 77  YrSold         1460 non-null   int64  \n",
      " 78  SaleType       1460 non-null   object \n",
      " 79  SaleCondition  1460 non-null   object \n",
      " 80  SalePrice      1460 non-null   int64  \n",
      "dtypes: float64(3), int64(35), object(43)\n",
      "memory usage: 924.0+ KB\n"
     ]
    }
   ],
   "source": [
    "train = pd.read_csv(\"train.csv\")\n",
    "train.info()"
   ]
  },
  {
   "cell_type": "raw",
   "id": "f94e1510",
   "metadata": {},
   "source": [
    "X_train = train.drop(\"SalePrice\", 1)\n",
    "y_train = train[\"SalePrice\"] \n",
    "X_train, X_valid, y_train, y_valid = train_test_split(X_train, y_train, test_size=0.3, random_state=47)"
   ]
  },
  {
   "cell_type": "markdown",
   "id": "52b5e856",
   "metadata": {},
   "source": [
    "### MSSubClass"
   ]
  },
  {
   "cell_type": "code",
   "execution_count": 3,
   "id": "002abcf1",
   "metadata": {},
   "outputs": [
    {
     "data": {
      "text/plain": [
       "20     536\n",
       "60     299\n",
       "50     144\n",
       "120     87\n",
       "30      69\n",
       "160     63\n",
       "70      60\n",
       "80      58\n",
       "90      52\n",
       "190     30\n",
       "85      20\n",
       "75      16\n",
       "45      12\n",
       "180     10\n",
       "40       4\n",
       "Name: MSSubClass, dtype: int64"
      ]
     },
     "execution_count": 3,
     "metadata": {},
     "output_type": "execute_result"
    }
   ],
   "source": [
    "train['MSSubClass'].value_counts()"
   ]
  },
  {
   "cell_type": "code",
   "execution_count": 4,
   "id": "c15034f9",
   "metadata": {},
   "outputs": [
    {
     "data": {
      "text/html": [
       "<div>\n",
       "<style scoped>\n",
       "    .dataframe tbody tr th:only-of-type {\n",
       "        vertical-align: middle;\n",
       "    }\n",
       "\n",
       "    .dataframe tbody tr th {\n",
       "        vertical-align: top;\n",
       "    }\n",
       "\n",
       "    .dataframe thead th {\n",
       "        text-align: right;\n",
       "    }\n",
       "</style>\n",
       "<table border=\"1\" class=\"dataframe\">\n",
       "  <thead>\n",
       "    <tr style=\"text-align: right;\">\n",
       "      <th></th>\n",
       "      <th>SalePrice</th>\n",
       "    </tr>\n",
       "  </thead>\n",
       "  <tbody>\n",
       "    <tr>\n",
       "      <th>MSSubClass</th>\n",
       "      <td>-0.084284</td>\n",
       "    </tr>\n",
       "  </tbody>\n",
       "</table>\n",
       "</div>"
      ],
      "text/plain": [
       "            SalePrice\n",
       "MSSubClass  -0.084284"
      ]
     },
     "execution_count": 4,
     "metadata": {},
     "output_type": "execute_result"
    }
   ],
   "source": [
    "corr_matrix = train.corr()[['SalePrice']]\n",
    "corr_matrix.loc[['MSSubClass']]"
   ]
  },
  {
   "cell_type": "markdown",
   "id": "ebe1871c",
   "metadata": {},
   "source": [
    "Корреляция слабая, но, я думаю признак должен оказывать большее влияние, т.к. Класс дома это важный признак. Признак хоть и имеет числа, однако является категориальным. Попробуем превратить его в популярность значений."
   ]
  },
  {
   "cell_type": "code",
   "execution_count": 5,
   "id": "e418db60",
   "metadata": {},
   "outputs": [
    {
     "data": {
      "text/html": [
       "<div>\n",
       "<style scoped>\n",
       "    .dataframe tbody tr th:only-of-type {\n",
       "        vertical-align: middle;\n",
       "    }\n",
       "\n",
       "    .dataframe tbody tr th {\n",
       "        vertical-align: top;\n",
       "    }\n",
       "\n",
       "    .dataframe thead th {\n",
       "        text-align: right;\n",
       "    }\n",
       "</style>\n",
       "<table border=\"1\" class=\"dataframe\">\n",
       "  <thead>\n",
       "    <tr style=\"text-align: right;\">\n",
       "      <th></th>\n",
       "      <th>SalePrice</th>\n",
       "    </tr>\n",
       "  </thead>\n",
       "  <tbody>\n",
       "    <tr>\n",
       "      <th>MSSubClass</th>\n",
       "      <td>0.210576</td>\n",
       "    </tr>\n",
       "  </tbody>\n",
       "</table>\n",
       "</div>"
      ],
      "text/plain": [
       "            SalePrice\n",
       "MSSubClass   0.210576"
      ]
     },
     "execution_count": 5,
     "metadata": {},
     "output_type": "execute_result"
    }
   ],
   "source": [
    "class_pop_dict = train['MSSubClass'].value_counts(normalize=True).to_dict()\n",
    "train.replace({'MSSubClass': class_pop_dict}, inplace=True )\n",
    "corr_matrix = train.corr()[['SalePrice']]\n",
    "corr_matrix.loc[['MSSubClass']]"
   ]
  },
  {
   "cell_type": "markdown",
   "id": "14930ad9",
   "metadata": {},
   "source": [
    "Такое значение мне кажется более честным."
   ]
  },
  {
   "cell_type": "markdown",
   "id": "5b71f253",
   "metadata": {},
   "source": [
    "### MSZoning"
   ]
  },
  {
   "cell_type": "code",
   "execution_count": 6,
   "id": "c76bade6",
   "metadata": {},
   "outputs": [
    {
     "data": {
      "text/plain": [
       "0       RL\n",
       "1       RL\n",
       "2       RL\n",
       "3       RL\n",
       "4       RL\n",
       "        ..\n",
       "1455    RL\n",
       "1456    RL\n",
       "1457    RL\n",
       "1458    RL\n",
       "1459    RL\n",
       "Name: MSZoning, Length: 1460, dtype: object"
      ]
     },
     "execution_count": 6,
     "metadata": {},
     "output_type": "execute_result"
    }
   ],
   "source": [
    "train['MSZoning']"
   ]
  },
  {
   "cell_type": "code",
   "execution_count": 7,
   "id": "afd46891",
   "metadata": {},
   "outputs": [
    {
     "data": {
      "text/plain": [
       "RL         1151\n",
       "RM          218\n",
       "FV           65\n",
       "RH           16\n",
       "C (all)      10\n",
       "Name: MSZoning, dtype: int64"
      ]
     },
     "execution_count": 7,
     "metadata": {},
     "output_type": "execute_result"
    }
   ],
   "source": [
    "train['MSZoning'].value_counts()"
   ]
  },
  {
   "cell_type": "markdown",
   "id": "e8894996",
   "metadata": {},
   "source": [
    "Можем попробовать использовать признак в виде средней цены на каждом типе зоны."
   ]
  },
  {
   "cell_type": "code",
   "execution_count": 8,
   "id": "aaa41647",
   "metadata": {},
   "outputs": [],
   "source": [
    "mszoning_mean_price_dict = train.groupby(by='MSZoning')['SalePrice'].mean().to_dict()"
   ]
  },
  {
   "cell_type": "code",
   "execution_count": 9,
   "id": "f86a2e0a",
   "metadata": {},
   "outputs": [],
   "source": [
    "\n",
    "train.replace({'MSZoning': mszoning_mean_price_dict}, inplace=True )"
   ]
  },
  {
   "cell_type": "code",
   "execution_count": 10,
   "id": "cb2c29db",
   "metadata": {},
   "outputs": [
    {
     "data": {
      "text/html": [
       "<div>\n",
       "<style scoped>\n",
       "    .dataframe tbody tr th:only-of-type {\n",
       "        vertical-align: middle;\n",
       "    }\n",
       "\n",
       "    .dataframe tbody tr th {\n",
       "        vertical-align: top;\n",
       "    }\n",
       "\n",
       "    .dataframe thead th {\n",
       "        text-align: right;\n",
       "    }\n",
       "</style>\n",
       "<table border=\"1\" class=\"dataframe\">\n",
       "  <thead>\n",
       "    <tr style=\"text-align: right;\">\n",
       "      <th></th>\n",
       "      <th>SalePrice</th>\n",
       "    </tr>\n",
       "  </thead>\n",
       "  <tbody>\n",
       "    <tr>\n",
       "      <th>MSZoning</th>\n",
       "      <td>0.327963</td>\n",
       "    </tr>\n",
       "  </tbody>\n",
       "</table>\n",
       "</div>"
      ],
      "text/plain": [
       "          SalePrice\n",
       "MSZoning   0.327963"
      ]
     },
     "execution_count": 10,
     "metadata": {},
     "output_type": "execute_result"
    }
   ],
   "source": [
    "corr_matrix = train.corr()[['SalePrice']]\n",
    "corr_matrix.loc[['MSZoning']]"
   ]
  },
  {
   "cell_type": "markdown",
   "id": "4a882deb",
   "metadata": {},
   "source": [
    "### LotFrontage"
   ]
  },
  {
   "cell_type": "code",
   "execution_count": 11,
   "id": "fff99230",
   "metadata": {},
   "outputs": [
    {
     "data": {
      "text/html": [
       "<div>\n",
       "<style scoped>\n",
       "    .dataframe tbody tr th:only-of-type {\n",
       "        vertical-align: middle;\n",
       "    }\n",
       "\n",
       "    .dataframe tbody tr th {\n",
       "        vertical-align: top;\n",
       "    }\n",
       "\n",
       "    .dataframe thead th {\n",
       "        text-align: right;\n",
       "    }\n",
       "</style>\n",
       "<table border=\"1\" class=\"dataframe\">\n",
       "  <thead>\n",
       "    <tr style=\"text-align: right;\">\n",
       "      <th></th>\n",
       "      <th>SalePrice</th>\n",
       "    </tr>\n",
       "  </thead>\n",
       "  <tbody>\n",
       "    <tr>\n",
       "      <th>LotFrontage</th>\n",
       "      <td>0.351799</td>\n",
       "    </tr>\n",
       "  </tbody>\n",
       "</table>\n",
       "</div>"
      ],
      "text/plain": [
       "             SalePrice\n",
       "LotFrontage   0.351799"
      ]
     },
     "execution_count": 11,
     "metadata": {},
     "output_type": "execute_result"
    }
   ],
   "source": [
    "corr_matrix = train.corr()[['SalePrice']]\n",
    "corr_matrix.loc[['LotFrontage']]"
   ]
  },
  {
   "cell_type": "code",
   "execution_count": 12,
   "id": "631c2040",
   "metadata": {},
   "outputs": [
    {
     "data": {
      "text/plain": [
       "(69.0, 60.0)"
      ]
     },
     "execution_count": 12,
     "metadata": {},
     "output_type": "execute_result"
    }
   ],
   "source": [
    "train['LotFrontage'].median(), train['LotFrontage'].mode()[0]"
   ]
  },
  {
   "cell_type": "markdown",
   "id": "042ebf37",
   "metadata": {},
   "source": [
    "Не понятно за что отвечает параметр. Если это просто длина прилегающей улицы, то не понятно почему такая корреляция. Возможно это расстояние от входа в дом, до дороги. Тогда можно предположить, что дома строились по определенным проектам, по этому заполним пропуски самым популярным значением."
   ]
  },
  {
   "cell_type": "code",
   "execution_count": 13,
   "id": "51b35030",
   "metadata": {},
   "outputs": [],
   "source": [
    "train.loc[train['LotFrontage'].isna(), 'LotFrontage'] = train['LotFrontage'].mode()[0]"
   ]
  },
  {
   "cell_type": "markdown",
   "id": "bb550c45",
   "metadata": {},
   "source": [
    "### LotArea"
   ]
  },
  {
   "cell_type": "code",
   "execution_count": 14,
   "id": "46ca16bf",
   "metadata": {},
   "outputs": [
    {
     "data": {
      "text/plain": [
       "count      1460.000000\n",
       "mean      10516.828082\n",
       "std        9981.264932\n",
       "min        1300.000000\n",
       "25%        7553.500000\n",
       "50%        9478.500000\n",
       "75%       11601.500000\n",
       "max      215245.000000\n",
       "Name: LotArea, dtype: float64"
      ]
     },
     "execution_count": 14,
     "metadata": {},
     "output_type": "execute_result"
    }
   ],
   "source": [
    "train['LotArea'].describe()"
   ]
  },
  {
   "cell_type": "code",
   "execution_count": 15,
   "id": "10a9aaf1",
   "metadata": {},
   "outputs": [
    {
     "data": {
      "text/html": [
       "<div>\n",
       "<style scoped>\n",
       "    .dataframe tbody tr th:only-of-type {\n",
       "        vertical-align: middle;\n",
       "    }\n",
       "\n",
       "    .dataframe tbody tr th {\n",
       "        vertical-align: top;\n",
       "    }\n",
       "\n",
       "    .dataframe thead th {\n",
       "        text-align: right;\n",
       "    }\n",
       "</style>\n",
       "<table border=\"1\" class=\"dataframe\">\n",
       "  <thead>\n",
       "    <tr style=\"text-align: right;\">\n",
       "      <th></th>\n",
       "      <th>SalePrice</th>\n",
       "    </tr>\n",
       "  </thead>\n",
       "  <tbody>\n",
       "    <tr>\n",
       "      <th>LotArea</th>\n",
       "      <td>0.263843</td>\n",
       "    </tr>\n",
       "  </tbody>\n",
       "</table>\n",
       "</div>"
      ],
      "text/plain": [
       "         SalePrice\n",
       "LotArea   0.263843"
      ]
     },
     "execution_count": 15,
     "metadata": {},
     "output_type": "execute_result"
    }
   ],
   "source": [
    "corr_matrix = train.corr()[['SalePrice']]\n",
    "corr_matrix.loc[['LotArea']]"
   ]
  },
  {
   "cell_type": "code",
   "execution_count": 16,
   "id": "8eab949e",
   "metadata": {},
   "outputs": [
    {
     "data": {
      "text/plain": [
       "<seaborn.axisgrid.JointGrid at 0x1884d2a9220>"
      ]
     },
     "execution_count": 16,
     "metadata": {},
     "output_type": "execute_result"
    },
    {
     "data": {
      "image/png": "[encoded data removed]",
      "text/plain": [
       "<Figure size 432x432 with 3 Axes>"
      ]
     },
     "metadata": {
      "needs_background": "light"
     },
     "output_type": "display_data"
    }
   ],
   "source": [
    "sns.jointplot(train['LotArea'], train['SalePrice'], kind='reg')"
   ]
  },
  {
   "cell_type": "code",
   "execution_count": null,
   "id": "d8e5e6b7",
   "metadata": {},
   "outputs": [],
   "source": [
    "Интересная зависимость, видно, что большой разброс, вероятно свзязанно с соотношением стоимости самого дома, с стоимостью площадью земли. "
   ]
  },
  {
   "cell_type": "markdown",
   "id": "e1ec8da6",
   "metadata": {},
   "source": [
    "### Street"
   ]
  },
  {
   "cell_type": "code",
   "execution_count": 17,
   "id": "0211d152",
   "metadata": {},
   "outputs": [
    {
     "data": {
      "text/plain": [
       "Pave    1454\n",
       "Grvl       6\n",
       "Name: Street, dtype: int64"
      ]
     },
     "execution_count": 17,
     "metadata": {},
     "output_type": "execute_result"
    }
   ],
   "source": [
    "train['Street'].value_counts()"
   ]
  },
  {
   "cell_type": "markdown",
   "id": "3eac03cc",
   "metadata": {},
   "source": [
    "При таком несбалансированном распределении влияние признака будет не существенным. Можно его удалить."
   ]
  },
  {
   "cell_type": "code",
   "execution_count": 18,
   "id": "da5ac69a",
   "metadata": {},
   "outputs": [],
   "source": [
    "train = train.drop('Street', 1)"
   ]
  },
  {
   "cell_type": "markdown",
   "id": "edb86132",
   "metadata": {},
   "source": [
    "### Alley"
   ]
  },
  {
   "cell_type": "markdown",
   "id": "e70efda7",
   "metadata": {},
   "source": [
    "Слишком мало наблюдений, для нормального заполнения пропущенных значений признака. Удаляем."
   ]
  },
  {
   "cell_type": "code",
   "execution_count": 19,
   "id": "b0661b7f",
   "metadata": {},
   "outputs": [],
   "source": [
    "train = train.drop('Alley', 1)"
   ]
  },
  {
   "cell_type": "markdown",
   "id": "8a0a6408",
   "metadata": {},
   "source": [
    "### LotShape"
   ]
  },
  {
   "cell_type": "code",
   "execution_count": 20,
   "id": "f4e8dc9c",
   "metadata": {},
   "outputs": [
    {
     "data": {
      "text/plain": [
       "Reg    925\n",
       "IR1    484\n",
       "IR2     41\n",
       "IR3     10\n",
       "Name: LotShape, dtype: int64"
      ]
     },
     "execution_count": 20,
     "metadata": {},
     "output_type": "execute_result"
    }
   ],
   "source": [
    "train['LotShape'].value_counts()"
   ]
  },
  {
   "cell_type": "markdown",
   "id": "a7d7d7c9",
   "metadata": {},
   "source": [
    "Обработаем, как dummy-переменную."
   ]
  },
  {
   "cell_type": "code",
   "execution_count": 21,
   "id": "90cace69",
   "metadata": {},
   "outputs": [],
   "source": [
    "dummyes_columns = []"
   ]
  },
  {
   "cell_type": "code",
   "execution_count": 22,
   "id": "10ab3629",
   "metadata": {},
   "outputs": [],
   "source": [
    "dummyes_columns.append('LotShape')"
   ]
  },
  {
   "cell_type": "markdown",
   "id": "d50eb31b",
   "metadata": {},
   "source": [
    "### LandContour"
   ]
  },
  {
   "cell_type": "code",
   "execution_count": 23,
   "id": "7e74e5c3",
   "metadata": {},
   "outputs": [
    {
     "data": {
      "text/plain": [
       "Lvl    1311\n",
       "Bnk      63\n",
       "HLS      50\n",
       "Low      36\n",
       "Name: LandContour, dtype: int64"
      ]
     },
     "execution_count": 23,
     "metadata": {},
     "output_type": "execute_result"
    }
   ],
   "source": [
    "train['LandContour'].value_counts()"
   ]
  },
  {
   "cell_type": "markdown",
   "id": "143fb14d",
   "metadata": {},
   "source": [
    "Можно определить, как бинарный признак, где нормальное расположение это 0, не нормальное 1. Но врядли признак будет иметь больой вес."
   ]
  },
  {
   "cell_type": "code",
   "execution_count": 24,
   "id": "127d8208",
   "metadata": {},
   "outputs": [],
   "source": [
    "train['LandContour'] = (train['LandContour'] != 'Lvl').astype(int)"
   ]
  },
  {
   "cell_type": "markdown",
   "id": "769390ea",
   "metadata": {},
   "source": [
    "### Utilities"
   ]
  },
  {
   "cell_type": "code",
   "execution_count": 25,
   "id": "b3494939",
   "metadata": {},
   "outputs": [
    {
     "data": {
      "text/plain": [
       "AllPub    1459\n",
       "NoSeWa       1\n",
       "Name: Utilities, dtype: int64"
      ]
     },
     "execution_count": 25,
     "metadata": {},
     "output_type": "execute_result"
    }
   ],
   "source": [
    "train['Utilities'].value_counts()"
   ]
  },
  {
   "cell_type": "markdown",
   "id": "aa18cb77",
   "metadata": {},
   "source": [
    "При таком несбалансированном распределении влияние признака будет не существенным. Можно его удалить."
   ]
  },
  {
   "cell_type": "code",
   "execution_count": 26,
   "id": "70cd209e",
   "metadata": {},
   "outputs": [],
   "source": [
    "train = train.drop('Utilities', 1)"
   ]
  },
  {
   "cell_type": "markdown",
   "id": "333b2488",
   "metadata": {},
   "source": [
    "### LotConfig"
   ]
  },
  {
   "cell_type": "code",
   "execution_count": 27,
   "id": "6c9cf59e",
   "metadata": {},
   "outputs": [
    {
     "data": {
      "text/plain": [
       "Inside     1052\n",
       "Corner      263\n",
       "CulDSac      94\n",
       "FR2          47\n",
       "FR3           4\n",
       "Name: LotConfig, dtype: int64"
      ]
     },
     "execution_count": 27,
     "metadata": {},
     "output_type": "execute_result"
    }
   ],
   "source": [
    "train['LotConfig'].value_counts()"
   ]
  },
  {
   "cell_type": "markdown",
   "id": "1adc8f40",
   "metadata": {},
   "source": [
    "Слабо понимаю суть признака, просто запишем в список дамми переменных."
   ]
  },
  {
   "cell_type": "code",
   "execution_count": 28,
   "id": "da524c7f",
   "metadata": {},
   "outputs": [],
   "source": [
    "dummyes_columns.append('LotConfig')"
   ]
  },
  {
   "cell_type": "markdown",
   "id": "af1db3de",
   "metadata": {},
   "source": [
    "### LandSlope"
   ]
  },
  {
   "cell_type": "code",
   "execution_count": 29,
   "id": "d5037a26",
   "metadata": {},
   "outputs": [
    {
     "data": {
      "text/plain": [
       "Gtl    1382\n",
       "Mod      65\n",
       "Sev      13\n",
       "Name: LandSlope, dtype: int64"
      ]
     },
     "execution_count": 29,
     "metadata": {},
     "output_type": "execute_result"
    }
   ],
   "source": [
    "train['LandSlope'].value_counts()"
   ]
  },
  {
   "cell_type": "markdown",
   "id": "2380759f",
   "metadata": {},
   "source": [
    "Снова очень не сбалансированный признак. Попробуем сделать бинарный признак, но врядли будет большая польза."
   ]
  },
  {
   "cell_type": "code",
   "execution_count": 30,
   "id": "41b2a1e6",
   "metadata": {},
   "outputs": [],
   "source": [
    "train['LandSlope'] = (train['LandSlope'] != 'Gtl').astype(int)"
   ]
  },
  {
   "cell_type": "markdown",
   "id": "5a0447cd",
   "metadata": {},
   "source": [
    "### Neighborhood "
   ]
  },
  {
   "cell_type": "code",
   "execution_count": 31,
   "id": "261a4f95",
   "metadata": {},
   "outputs": [
    {
     "data": {
      "text/plain": [
       "NAmes      225\n",
       "CollgCr    150\n",
       "OldTown    113\n",
       "Edwards    100\n",
       "Somerst     86\n",
       "Gilbert     79\n",
       "NridgHt     77\n",
       "Sawyer      74\n",
       "NWAmes      73\n",
       "SawyerW     59\n",
       "BrkSide     58\n",
       "Crawfor     51\n",
       "Mitchel     49\n",
       "NoRidge     41\n",
       "Timber      38\n",
       "IDOTRR      37\n",
       "ClearCr     28\n",
       "SWISU       25\n",
       "StoneBr     25\n",
       "Blmngtn     17\n",
       "MeadowV     17\n",
       "BrDale      16\n",
       "Veenker     11\n",
       "NPkVill      9\n",
       "Blueste      2\n",
       "Name: Neighborhood, dtype: int64"
      ]
     },
     "execution_count": 31,
     "metadata": {},
     "output_type": "execute_result"
    }
   ],
   "source": [
    "train['Neighborhood'].value_counts()"
   ]
  },
  {
   "cell_type": "markdown",
   "id": "607ab6fa",
   "metadata": {},
   "source": [
    "Закодируем частотой."
   ]
  },
  {
   "cell_type": "code",
   "execution_count": 32,
   "id": "824088b7",
   "metadata": {},
   "outputs": [],
   "source": [
    "neighborhood_pop_dict = train['Neighborhood'].value_counts(normalize=True).to_dict()\n",
    "train.replace({'Neighborhood': neighborhood_pop_dict}, inplace=True )"
   ]
  },
  {
   "cell_type": "markdown",
   "id": "ee252d26",
   "metadata": {},
   "source": [
    "### Condition1"
   ]
  },
  {
   "cell_type": "code",
   "execution_count": 33,
   "id": "d7bac5d7",
   "metadata": {},
   "outputs": [
    {
     "data": {
      "text/plain": [
       "Norm      1260\n",
       "Feedr       81\n",
       "Artery      48\n",
       "RRAn        26\n",
       "PosN        19\n",
       "RRAe        11\n",
       "PosA         8\n",
       "RRNn         5\n",
       "RRNe         2\n",
       "Name: Condition1, dtype: int64"
      ]
     },
     "execution_count": 33,
     "metadata": {},
     "output_type": "execute_result"
    }
   ],
   "source": [
    "train['Condition1'].value_counts()"
   ]
  },
  {
   "cell_type": "code",
   "execution_count": 34,
   "id": "fc1c9081",
   "metadata": {},
   "outputs": [
    {
     "data": {
      "text/plain": [
       "Norm      1445\n",
       "Feedr        6\n",
       "RRNn         2\n",
       "Artery       2\n",
       "PosN         2\n",
       "RRAe         1\n",
       "PosA         1\n",
       "RRAn         1\n",
       "Name: Condition2, dtype: int64"
      ]
     },
     "execution_count": 34,
     "metadata": {},
     "output_type": "execute_result"
    }
   ],
   "source": [
    "train['Condition2'].value_counts()"
   ]
  },
  {
   "cell_type": "code",
   "execution_count": 35,
   "id": "9e88518e",
   "metadata": {},
   "outputs": [
    {
     "data": {
      "text/html": [
       "<div>\n",
       "<style scoped>\n",
       "    .dataframe tbody tr th:only-of-type {\n",
       "        vertical-align: middle;\n",
       "    }\n",
       "\n",
       "    .dataframe tbody tr th {\n",
       "        vertical-align: top;\n",
       "    }\n",
       "\n",
       "    .dataframe thead th {\n",
       "        text-align: right;\n",
       "    }\n",
       "</style>\n",
       "<table border=\"1\" class=\"dataframe\">\n",
       "  <thead>\n",
       "    <tr style=\"text-align: right;\">\n",
       "      <th></th>\n",
       "      <th>Condition1</th>\n",
       "      <th>Condition2</th>\n",
       "    </tr>\n",
       "  </thead>\n",
       "  <tbody>\n",
       "    <tr>\n",
       "      <th>0</th>\n",
       "      <td>Norm</td>\n",
       "      <td>Norm</td>\n",
       "    </tr>\n",
       "    <tr>\n",
       "      <th>1</th>\n",
       "      <td>Feedr</td>\n",
       "      <td>Norm</td>\n",
       "    </tr>\n",
       "    <tr>\n",
       "      <th>2</th>\n",
       "      <td>Norm</td>\n",
       "      <td>Norm</td>\n",
       "    </tr>\n",
       "    <tr>\n",
       "      <th>3</th>\n",
       "      <td>Norm</td>\n",
       "      <td>Norm</td>\n",
       "    </tr>\n",
       "    <tr>\n",
       "      <th>4</th>\n",
       "      <td>Norm</td>\n",
       "      <td>Norm</td>\n",
       "    </tr>\n",
       "    <tr>\n",
       "      <th>...</th>\n",
       "      <td>...</td>\n",
       "      <td>...</td>\n",
       "    </tr>\n",
       "    <tr>\n",
       "      <th>1455</th>\n",
       "      <td>Norm</td>\n",
       "      <td>Norm</td>\n",
       "    </tr>\n",
       "    <tr>\n",
       "      <th>1456</th>\n",
       "      <td>Norm</td>\n",
       "      <td>Norm</td>\n",
       "    </tr>\n",
       "    <tr>\n",
       "      <th>1457</th>\n",
       "      <td>Norm</td>\n",
       "      <td>Norm</td>\n",
       "    </tr>\n",
       "    <tr>\n",
       "      <th>1458</th>\n",
       "      <td>Norm</td>\n",
       "      <td>Norm</td>\n",
       "    </tr>\n",
       "    <tr>\n",
       "      <th>1459</th>\n",
       "      <td>Norm</td>\n",
       "      <td>Norm</td>\n",
       "    </tr>\n",
       "  </tbody>\n",
       "</table>\n",
       "<p>1460 rows × 2 columns</p>\n",
       "</div>"
      ],
      "text/plain": [
       "     Condition1 Condition2\n",
       "0          Norm       Norm\n",
       "1         Feedr       Norm\n",
       "2          Norm       Norm\n",
       "3          Norm       Norm\n",
       "4          Norm       Norm\n",
       "...         ...        ...\n",
       "1455       Norm       Norm\n",
       "1456       Norm       Norm\n",
       "1457       Norm       Norm\n",
       "1458       Norm       Norm\n",
       "1459       Norm       Norm\n",
       "\n",
       "[1460 rows x 2 columns]"
      ]
     },
     "execution_count": 35,
     "metadata": {},
     "output_type": "execute_result"
    }
   ],
   "source": [
    "train[['Condition1', 'Condition2']]"
   ]
  },
  {
   "cell_type": "code",
   "execution_count": 36,
   "id": "304fbb1b",
   "metadata": {},
   "outputs": [
    {
     "data": {
      "text/plain": [
       "158014.7487179487"
      ]
     },
     "execution_count": 36,
     "metadata": {},
     "output_type": "execute_result"
    }
   ],
   "source": [
    "train.loc[train['Condition1'] != train['Condition2']]['SalePrice'].mean()"
   ]
  },
  {
   "cell_type": "markdown",
   "id": "393e82ed",
   "metadata": {},
   "source": [
    "На сколько я понял описание признаков, это близость к полезным \\ важным точкам. Мы можем создать доп признак, "
   ]
  },
  {
   "cell_type": "code",
   "execution_count": 37,
   "id": "6cf5b332",
   "metadata": {},
   "outputs": [
    {
     "data": {
      "text/plain": [
       "Condition1\n",
       "Artery    135091.666667\n",
       "Feedr     142475.481481\n",
       "Norm      184495.492063\n",
       "PosA      225875.000000\n",
       "PosN      215184.210526\n",
       "RRAe      138400.000000\n",
       "RRAn      184396.615385\n",
       "RRNe      190750.000000\n",
       "RRNn      212400.000000\n",
       "Name: SalePrice, dtype: float64"
      ]
     },
     "execution_count": 37,
     "metadata": {},
     "output_type": "execute_result"
    }
   ],
   "source": [
    "train.groupby(by='Condition1')['SalePrice'].mean()"
   ]
  },
  {
   "cell_type": "code",
   "execution_count": null,
   "id": "e44a5e3f",
   "metadata": {},
   "outputs": [],
   "source": []
  },
  {
   "cell_type": "code",
   "execution_count": null,
   "id": "41d08182",
   "metadata": {},
   "outputs": [],
   "source": []
  },
  {
   "cell_type": "code",
   "execution_count": null,
   "id": "4f34ab5e",
   "metadata": {},
   "outputs": [],
   "source": []
  },
  {
   "cell_type": "markdown",
   "id": "aa9b0198",
   "metadata": {},
   "source": [
    "### Переменные"
   ]
  },
  {
   "cell_type": "markdown",
   "id": "e11142a9",
   "metadata": {},
   "source": [
    "class_pop_dict = X_train['MSSubClass'].value_counts(normalize=True).to_dict()\n",
    "mszoning_mean_price_dict = X_train.groupby(by='MSZoning')['SalePrice'].mean().to_dict()\n",
    "lotfrontage_mode = X_train['LotFrontage'].mode()[0]\n",
    "\n",
    "neighborhood_pop_dict = X_train['Neighborhood'].value_counts(normalize=True).to_dict()\n"
   ]
  },
  {
   "cell_type": "code",
   "execution_count": 38,
   "id": "7382e1a1",
   "metadata": {},
   "outputs": [],
   "source": [
    "def train_prep(df):\n",
    "   \n",
    "    df.replace({'MSSubClass': class_pop_dict}, inplace=True )\n",
    "    df.replace({'MSZoning': mszoning_mean_price_dict}, inplace=True )\n",
    "    df.loc[df['LotFrontage'].isna(), 'LotFrontage'] = lotfrontage_mode\n",
    "    df = df.drop('Street', 1)\n",
    "    df = df.drop('Alley', 1)\n",
    "    df['LandSlope'] = (df['LandSlope'] != 'Gtl').astype(int)\n",
    "    df.replace({'Neighborhood': neighborhood_pop_dict}, inplace=True )\n",
    "    return df"
   ]
  }
 ],
 "metadata": {
  "kernelspec": {
   "display_name": "Python 3",
   "language": "python",
   "name": "python3"
  },
  "language_info": {
   "codemirror_mode": {
    "name": "ipython",
    "version": 3
   },
   "file_extension": ".py",
   "mimetype": "text/x-python",
   "name": "python",
   "nbconvert_exporter": "python",
   "pygments_lexer": "ipython3",
   "version": "3.8.8"
  }
 },
 "nbformat": 4,
 "nbformat_minor": 5
}
