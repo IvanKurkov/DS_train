{
 "cells": [
  {
   "cell_type": "code",
   "execution_count": 1,
   "id": "e622c32d",
   "metadata": {},
   "outputs": [
    {
     "name": "stderr",
     "output_type": "stream",
     "text": [
      "C:\\Users\\user\\anaconda3\\lib\\site-packages\\xgboost\\compat.py:36: FutureWarning: pandas.Int64Index is deprecated and will be removed from pandas in a future version. Use pandas.Index with the appropriate dtype instead.\n",
      "  from pandas import MultiIndex, Int64Index\n"
     ]
    }
   ],
   "source": [
    "import pandas as pd\n",
    "import numpy as np\n",
    "import seaborn as sns\n",
    "from sklearn.impute import KNNImputer\n",
    "import matplotlib.pyplot as plt\n",
    "\n",
    "from sklearn.model_selection import train_test_split\n",
    "from sklearn.model_selection import GridSearchCV\n",
    "from sklearn.ensemble import RandomForestClassifier\n",
    "from sklearn.linear_model import LogisticRegression\n",
    "from xgboost import XGBClassifier\n",
    "from lightgbm import LGBMClassifier\n",
    "from sklearn.preprocessing import PolynomialFeatures\n",
    "\n",
    "from sklearn.pipeline import Pipeline, make_pipeline, FeatureUnion\n",
    "from sklearn.preprocessing import StandardScaler, OneHotEncoder, Normalizer\n",
    "from sklearn.base import BaseEstimator, TransformerMixin\n",
    "from sklearn.impute import SimpleImputer, KNNImputer\n",
    "\n",
    "from sklearn.metrics import recall_score, precision_score, roc_auc_score, accuracy_score, f1_score, precision_recall_curve, classification_report\n",
    "\n",
    "from sklearn.feature_selection import SelectFromModel, GenericUnivariateSelect, mutual_info_classif\n",
    "import sys\n",
    "import keras\n",
    "from keras.datasets import fashion_mnist\n",
    "from keras.models import Sequential\n",
    "from keras.layers import Dense\n",
    "from tensorflow.keras.utils import to_categorical\n",
    "from sklearn.metrics import multilabel_confusion_matrix, classification_report,  ConfusionMatrixDisplay\n",
    "import matplotlib.pyplot as plt\n",
    "#np.set_printoptions(threshold=sys.maxsize)"
   ]
  },
  {
   "cell_type": "code",
   "execution_count": 2,
   "id": "64e7172f",
   "metadata": {},
   "outputs": [],
   "source": [
    "def some_prepare(X):\n",
    "    X['group'] = X['PassengerId'].apply(lambda x: x[-2:])\n",
    "    X.loc[X[\"Cabin\"].isnull(), \"Cabin\"] = '-1/-1/-1'\n",
    "    X[['cab1','cab2','cab3']] = pd.DataFrame(X['Cabin'].str.split('/').tolist(),\n",
    "                                 columns = ['cab1','cab2','cab3'])\n",
    "    X['CryoSleep'] = X['CryoSleep'].replace({True: 1, False : 0})\n",
    "    X['VIP'] = X['VIP'].replace({True: 1, False : 0})\n",
    "    X['NO_VR_SPA'] = ((X['Spa'] == 0 ) & (X['VRDeck'] == 0)).astype(int) \n",
    "    num_features = ['Age', 'RoomService', 'FoodCourt',  'ShoppingMall', 'Spa', 'VRDeck']\n",
    "    return X"
   ]
  },
  {
   "cell_type": "code",
   "execution_count": 3,
   "id": "bbee4f12",
   "metadata": {},
   "outputs": [],
   "source": [
    "class ColumnSelector(BaseEstimator, TransformerMixin):\n",
    "    def __init__(self, columns):\n",
    "        self.columns = columns\n",
    "\n",
    "    def fit(self, X, y=None):\n",
    "        return self\n",
    "\n",
    "    def transform(self, X):\n",
    "        assert isinstance(X, pd.DataFrame)\n",
    "\n",
    "        try:\n",
    "            return X[self.columns]\n",
    "        except KeyError:\n",
    "            cols_error = list(set(self.columns) - set(X.columns))\n",
    "            raise KeyError(\"DataFrame не содердит следующие колонки: %s\" % cols_error)"
   ]
  },
  {
   "cell_type": "code",
   "execution_count": null,
   "id": "9fe80238",
   "metadata": {},
   "outputs": [],
   "source": []
  },
  {
   "cell_type": "code",
   "execution_count": null,
   "id": "1a631c57",
   "metadata": {},
   "outputs": [],
   "source": []
  },
  {
   "cell_type": "code",
   "execution_count": null,
   "id": "18b34790",
   "metadata": {},
   "outputs": [],
   "source": []
  },
  {
   "cell_type": "code",
   "execution_count": 4,
   "id": "8fe3d91e",
   "metadata": {},
   "outputs": [],
   "source": [
    "obj_features = ['HomePlanet',  'Destination', 'cab1','cab3']\n",
    "bin_features = ['CryoSleep', 'VIP', 'NO_VR_SPA']\n",
    "num_features = ['Age', 'RoomService', 'FoodCourt','cab2',  'ShoppingMall', 'Spa', 'VRDeck']"
   ]
  },
  {
   "cell_type": "code",
   "execution_count": 5,
   "id": "e7b8fc25",
   "metadata": {},
   "outputs": [],
   "source": [
    "all_feats = obj_features + num_features + bin_features"
   ]
  },
  {
   "cell_type": "code",
   "execution_count": 6,
   "id": "14534aef",
   "metadata": {},
   "outputs": [],
   "source": [
    "f_prep_pipeline = make_pipeline(\n",
    "    ColumnSelector(columns=all_feats),\n",
    "    FeatureUnion(transformer_list=[\n",
    "        (\"numeric_features\", make_pipeline(\n",
    "            ColumnSelector(num_features),\n",
    "            SimpleImputer(strategy=\"mean\"),\n",
    "            Normalizer()\n",
    "        )),\n",
    "        (\"categorical_features\", make_pipeline(\n",
    "            ColumnSelector(obj_features),\n",
    "            SimpleImputer(strategy=\"most_frequent\"),\n",
    "            OneHotEncoder(handle_unknown='ignore', drop='first')\n",
    "        )),\n",
    "        (\"boolean_features\", make_pipeline(\n",
    "            ColumnSelector(bin_features),\n",
    "            SimpleImputer(strategy=\"most_frequent\")\n",
    "            \n",
    "        ))\n",
    "    ])\n",
    ")"
   ]
  },
  {
   "cell_type": "code",
   "execution_count": 7,
   "id": "7a9d098d",
   "metadata": {},
   "outputs": [],
   "source": [
    "df = pd.read_csv('train.csv')"
   ]
  },
  {
   "cell_type": "code",
   "execution_count": 8,
   "id": "22336e5d",
   "metadata": {},
   "outputs": [],
   "source": [
    "df['Transported'] = df['Transported'].astype(int)"
   ]
  },
  {
   "cell_type": "code",
   "execution_count": 9,
   "id": "adbbd3a8",
   "metadata": {},
   "outputs": [],
   "source": [
    "X_tr, X_val, y_tr, y_val = train_test_split(df.drop('Transported', axis=1), df['Transported'], random_state=7)"
   ]
  },
  {
   "cell_type": "code",
   "execution_count": 10,
   "id": "4d63c3bb",
   "metadata": {},
   "outputs": [],
   "source": [
    "X_tr = some_prepare(X_tr)"
   ]
  },
  {
   "cell_type": "code",
   "execution_count": 11,
   "id": "7f8032bc",
   "metadata": {},
   "outputs": [],
   "source": [
    "X_val = some_prepare(X_val)"
   ]
  },
  {
   "cell_type": "code",
   "execution_count": 12,
   "id": "e84fc810",
   "metadata": {},
   "outputs": [],
   "source": [
    "X_tr = f_prep_pipeline.fit_transform(X_tr)"
   ]
  },
  {
   "cell_type": "code",
   "execution_count": 13,
   "id": "714953c0",
   "metadata": {},
   "outputs": [],
   "source": [
    "X_val = f_prep_pipeline.transform(X_val)"
   ]
  },
  {
   "cell_type": "code",
   "execution_count": 14,
   "id": "d70fafb8",
   "metadata": {},
   "outputs": [
    {
     "data": {
      "text/plain": [
       "<2174x24 sparse matrix of type '<class 'numpy.float64'>'\n",
       "\twith 17193 stored elements in Compressed Sparse Row format>"
      ]
     },
     "execution_count": 14,
     "metadata": {},
     "output_type": "execute_result"
    }
   ],
   "source": [
    "X_val"
   ]
  },
  {
   "cell_type": "code",
   "execution_count": 15,
   "id": "551f32ae",
   "metadata": {},
   "outputs": [],
   "source": [
    "X_tr = X_tr.toarray() "
   ]
  },
  {
   "cell_type": "code",
   "execution_count": 16,
   "id": "82147172",
   "metadata": {},
   "outputs": [
    {
     "data": {
      "text/plain": [
       "array([[0.06942151, 0.        , 0.        , ..., 1.        , 0.        ,\n",
       "        1.        ],\n",
       "       [0.02330767, 0.02542655, 0.        , ..., 0.        , 0.        ,\n",
       "        0.        ],\n",
       "       [0.01967283, 0.        , 0.73527221, ..., 0.        , 0.        ,\n",
       "        0.        ],\n",
       "       ...,\n",
       "       [0.06621591, 0.        , 0.        , ..., 1.        , 0.        ,\n",
       "        1.        ],\n",
       "       [0.00459822, 0.        , 0.20753289, ..., 0.        , 0.        ,\n",
       "        0.        ],\n",
       "       [0.01771059, 0.        , 0.        , ..., 1.        , 0.        ,\n",
       "        1.        ]])"
      ]
     },
     "execution_count": 16,
     "metadata": {},
     "output_type": "execute_result"
    }
   ],
   "source": [
    "X_tr"
   ]
  },
  {
   "cell_type": "code",
   "execution_count": 17,
   "id": "21de5f08",
   "metadata": {},
   "outputs": [
    {
     "data": {
      "text/plain": [
       "array([0.06942151, 0.        , 0.        , 0.99758742, 0.        ,\n",
       "       0.        , 0.        , 0.        , 0.        , 0.        ,\n",
       "       1.        , 0.        , 0.        , 0.        , 0.        ,\n",
       "       0.        , 1.        , 0.        , 0.        , 1.        ,\n",
       "       0.        , 1.        , 0.        , 1.        ])"
      ]
     },
     "execution_count": 17,
     "metadata": {},
     "output_type": "execute_result"
    }
   ],
   "source": [
    "X_tr[0]"
   ]
  },
  {
   "cell_type": "code",
   "execution_count": 28,
   "id": "c5ac0ed6",
   "metadata": {},
   "outputs": [
    {
     "data": {
      "text/plain": [
       "0       1\n",
       "1       0\n",
       "2       1\n",
       "3       0\n",
       "4       0\n",
       "       ..\n",
       "6514    1\n",
       "6515    0\n",
       "6516    1\n",
       "6517    1\n",
       "6518    1\n",
       "Name: Transported, Length: 6519, dtype: int32"
      ]
     },
     "execution_count": 28,
     "metadata": {},
     "output_type": "execute_result"
    }
   ],
   "source": [
    "y_tr"
   ]
  },
  {
   "cell_type": "code",
   "execution_count": null,
   "id": "eb683f3e",
   "metadata": {},
   "outputs": [],
   "source": []
  },
  {
   "cell_type": "code",
   "execution_count": 20,
   "id": "2b679c47",
   "metadata": {},
   "outputs": [],
   "source": [
    "X_val = X_val.toarray() "
   ]
  },
  {
   "cell_type": "code",
   "execution_count": 21,
   "id": "296478b2",
   "metadata": {},
   "outputs": [],
   "source": [
    "y_val.reset_index(drop=True, inplace=True)"
   ]
  },
  {
   "cell_type": "code",
   "execution_count": 22,
   "id": "b95d0ec2",
   "metadata": {},
   "outputs": [],
   "source": [
    "y_tr.reset_index(drop=True, inplace=True)"
   ]
  },
  {
   "cell_type": "code",
   "execution_count": 23,
   "id": "494c7bdb",
   "metadata": {},
   "outputs": [],
   "source": [
    "model = Sequential([\n",
    "  Dense(30, activation='sigmoid', input_shape=(24,)),  \n",
    "  Dense(1, activation='sigmoid'),\n",
    "])\n",
    "\n",
    "\n",
    "model.compile(\n",
    "  optimizer='adam',\n",
    "  loss='categorical_crossentropy',\n",
    "  metrics=['accuracy'],\n",
    ")"
   ]
  },
  {
   "cell_type": "code",
   "execution_count": 24,
   "id": "0c86073e",
   "metadata": {},
   "outputs": [
    {
     "name": "stdout",
     "output_type": "stream",
     "text": [
      "Epoch 1/4\n",
      "163/163 [==============================] - 1s 2ms/step - loss: 0.0000e+00 - accuracy: 0.4978 - val_loss: 0.0000e+00 - val_accuracy: 0.4801\n",
      "Epoch 2/4\n",
      "163/163 [==============================] - 0s 833us/step - loss: 0.0000e+00 - accuracy: 0.5012 - val_loss: 0.0000e+00 - val_accuracy: 0.4801\n",
      "Epoch 3/4\n",
      "163/163 [==============================] - 0s 831us/step - loss: 0.0000e+00 - accuracy: 0.5012 - val_loss: 0.0000e+00 - val_accuracy: 0.4801\n",
      "Epoch 4/4\n",
      "163/163 [==============================] - 0s 830us/step - loss: 0.0000e+00 - accuracy: 0.5012 - val_loss: 0.0000e+00 - val_accuracy: 0.4801\n",
      "68/68 [==============================] - 0s 566us/step - loss: 0.0000e+00 - accuracy: 0.4945\n"
     ]
    },
    {
     "data": {
      "text/plain": [
       "[0.0, 0.4944802224636078]"
      ]
     },
     "execution_count": 24,
     "metadata": {},
     "output_type": "execute_result"
    }
   ],
   "source": [
    "model.fit(    \n",
    "  X_tr,\n",
    "\n",
    "  y_tr,\n",
    "  epochs=4,\n",
    "  batch_size=32, validation_split=0.2\n",
    ")\n",
    "\n",
    "# Evaluate the model.\n",
    "model.evaluate( \n",
    "  X_val,\n",
    "  y_val\n",
    ")"
   ]
  },
  {
   "cell_type": "code",
   "execution_count": 25,
   "id": "5a9a30e5",
   "metadata": {},
   "outputs": [
    {
     "name": "stdout",
     "output_type": "stream",
     "text": [
      "68/68 [==============================] - 0s 492us/step\n"
     ]
    }
   ],
   "source": [
    "preds = model.predict(X_val)"
   ]
  },
  {
   "cell_type": "code",
   "execution_count": 26,
   "id": "cfaef070",
   "metadata": {},
   "outputs": [
    {
     "data": {
      "text/plain": [
       "array([[3.9873029e-09, 2.3473656e-09, 3.2299463e-09, ..., 3.4095127e-09,\n",
       "        3.4468091e-09, 3.0903893e-09]], dtype=float32)"
      ]
     },
     "execution_count": 26,
     "metadata": {},
     "output_type": "execute_result"
    }
   ],
   "source": [
    "preds.T"
   ]
  },
  {
   "cell_type": "code",
   "execution_count": 27,
   "id": "efc1c2c5",
   "metadata": {},
   "outputs": [
    {
     "data": {
      "text/plain": [
       "0       0\n",
       "1       0\n",
       "2       1\n",
       "3       0\n",
       "4       1\n",
       "       ..\n",
       "2169    1\n",
       "2170    1\n",
       "2171    0\n",
       "2172    1\n",
       "2173    0\n",
       "Name: Transported, Length: 2174, dtype: int32"
      ]
     },
     "execution_count": 27,
     "metadata": {},
     "output_type": "execute_result"
    }
   ],
   "source": [
    "y_val"
   ]
  },
  {
   "cell_type": "code",
   "execution_count": null,
   "id": "f00cdbe1",
   "metadata": {},
   "outputs": [],
   "source": []
  },
  {
   "cell_type": "code",
   "execution_count": null,
   "id": "c50e1f96",
   "metadata": {},
   "outputs": [],
   "source": []
  },
  {
   "cell_type": "code",
   "execution_count": null,
   "id": "c615f844",
   "metadata": {},
   "outputs": [],
   "source": []
  },
  {
   "cell_type": "code",
   "execution_count": null,
   "id": "74cc6669",
   "metadata": {},
   "outputs": [],
   "source": []
  }
 ],
 "metadata": {
  "kernelspec": {
   "display_name": "Python 3 (ipykernel)",
   "language": "python",
   "name": "python3"
  },
  "language_info": {
   "codemirror_mode": {
    "name": "ipython",
    "version": 3
   },
   "file_extension": ".py",
   "mimetype": "text/x-python",
   "name": "python",
   "nbconvert_exporter": "python",
   "pygments_lexer": "ipython3",
   "version": "3.9.12"
  }
 },
 "nbformat": 4,
 "nbformat_minor": 5
}
